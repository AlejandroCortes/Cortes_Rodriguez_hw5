{
 "metadata": {
  "name": "",
  "signature": "sha256:6398f387776d43b740c15dc9afd7d54bfc61c6ba550844acfb55136a90631504"
 },
 "nbformat": 3,
 "nbformat_minor": 0,
 "worksheets": []
}