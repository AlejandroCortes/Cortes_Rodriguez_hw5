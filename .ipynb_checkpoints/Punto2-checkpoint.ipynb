{
 "metadata": {
  "name": "",
  "signature": "sha256:0c5a44eb0219d6c6f0930f26ab1b0acb9779904a10655b5a94b481de37bf56e8"
 },
 "nbformat": 3,
 "nbformat_minor": 0,
 "worksheets": [
  {
   "cells": [
    {
     "cell_type": "code",
     "collapsed": false,
     "input": [
      "import scikits.audiolab as audio\n",
      "from scipy.fftpack import fft, fftfreq\n",
      "from __future__ import division\n",
      "%pylab inline"
     ],
     "language": "python",
     "metadata": {},
     "outputs": [
      {
       "output_type": "stream",
       "stream": "stdout",
       "text": [
        "Populating the interactive namespace from numpy and matplotlib\n"
       ]
      },
      {
       "output_type": "stream",
       "stream": "stderr",
       "text": [
        "WARNING: pylab import has clobbered these variables: ['fft']\n",
        "`%matplotlib` prevents importing * from pylab and numpy\n"
       ]
      }
     ],
     "prompt_number": 1
    },
    {
     "cell_type": "code",
     "collapsed": false,
     "input": [
      "input_signal, sampling_rate, enc = audio.wavread(\"sonido1.wav\")\n",
      "print (input_signal[0:10]), sampling_rate, enc"
     ],
     "language": "python",
     "metadata": {},
     "outputs": [
      {
       "output_type": "stream",
       "stream": "stdout",
       "text": [
        "[  0.00000000e+00   0.00000000e+00   0.00000000e+00  -3.05175781e-05\n",
        "   3.05175781e-05  -3.05175781e-05   0.00000000e+00   0.00000000e+00\n",
        "   0.00000000e+00  -3.05175781e-05] 44100 pcm16\n"
       ]
      }
     ],
     "prompt_number": 2
    },
    {
     "cell_type": "code",
     "collapsed": false,
     "input": [
      "time_array = arange(0, len(input_signal)/float(sampling_rate), 1/float(sampling_rate))"
     ],
     "language": "python",
     "metadata": {},
     "outputs": [],
     "prompt_number": 3
    },
    {
     "cell_type": "code",
     "collapsed": false,
     "input": [],
     "language": "python",
     "metadata": {},
     "outputs": []
    }
   ],
   "metadata": {}
  }
 ]
}